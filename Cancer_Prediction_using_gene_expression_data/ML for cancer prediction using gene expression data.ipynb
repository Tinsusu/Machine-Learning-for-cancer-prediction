{
 "cells": [
  {
   "cell_type": "markdown",
   "id": "d2cbc23e-1f68-4e93-8854-ca36d4f85721",
   "metadata": {},
   "source": [
    "#### Import Python libraries we need"
   ]
  },
  {
   "cell_type": "code",
   "execution_count": null,
   "id": "0f7f1d5f-656c-41ce-8aea-40b0eb3c6655",
   "metadata": {},
   "outputs": [],
   "source": [
    "#data handling\n",
    "import pandas as pd\n",
    "import numpy as np\n",
    "\n",
    "#data visualization\n",
    "import matplotlib.pyplot as plt\n",
    "import seaborn as sns"
   ]
  },
  {
   "cell_type": "code",
   "execution_count": 2,
   "id": "72150218-37b9-48bd-8928-4ab726ab5eb6",
   "metadata": {},
   "outputs": [
    {
     "data": {
      "text/plain": [
       "'2.1.4'"
      ]
     },
     "execution_count": 2,
     "metadata": {},
     "output_type": "execute_result"
    }
   ],
   "source": [
    "pd.__version__"
   ]
  },
  {
   "cell_type": "code",
   "execution_count": 4,
   "id": "4af98d18-425f-42e2-a2fc-20f93c836b41",
   "metadata": {},
   "outputs": [
    {
     "name": "stdout",
     "output_type": "stream",
     "text": [
      "True\n"
     ]
    }
   ],
   "source": [
    "import importlib.util\n",
    "print(importlib.util.find_spec(\"seaborn\") is not None)\n"
   ]
  },
  {
   "cell_type": "code",
   "execution_count": 5,
   "id": "69a5ced8-13e8-4718-afc1-36aaff09413d",
   "metadata": {},
   "outputs": [
    {
     "name": "stdout",
     "output_type": "stream",
     "text": [
      "True\n"
     ]
    }
   ],
   "source": [
    "print(importlib.util.find_spec(\"matplotlib\") is not None)"
   ]
  },
  {
   "cell_type": "code",
   "execution_count": 6,
   "id": "daebc8f9-af29-4a91-ba59-ad521bbc952f",
   "metadata": {},
   "outputs": [
    {
     "name": "stdout",
     "output_type": "stream",
     "text": [
      "True\n"
     ]
    }
   ],
   "source": [
    "print(importlib.util.find_spec(\"sklearn\") is not None)"
   ]
  },
  {
   "cell_type": "code",
   "execution_count": 8,
   "id": "253001b3-f7a5-49d8-a404-7bee04db02ad",
   "metadata": {},
   "outputs": [],
   "source": [
    "#for preprocessing daata libs\n",
    "from sklearn.model_selection import train_test_split\n",
    "from sklearn.preprocessing import LabelEncoder\n",
    "from sklearn.preprocessing import label_binarize\n",
    "from sklearn.preprocessing import MinMaxScaler\n",
    "\n",
    "# For feature selection libs\n",
    "from sklearn.feature_selection import mutual_info_classif\n",
    "\n",
    "# For classification libs\n",
    "from sklearn.multiclass import OneVsRestClassifier\n",
    "from sklearn.ensemble import RandomForestClassifier\n",
    "\n",
    "# For metrices handlding\n",
    "from sklearn.metrics import balanced_accuracy_score,f1_score,precision_score, recall_score\n",
    "from sklearn.metrics import classification_report\n",
    "from sklearn.metrics import confusion_matrix\n",
    "#from sklearn.metrics import plot_confusion_matrix\n",
    "from sklearn.metrics import ConfusionMatrixDisplay\n",
    "from sklearn.metrics import roc_curve,auc\n",
    "from sklearn.metrics import roc_auc_score"
   ]
  },
  {
   "cell_type": "code",
   "execution_count": 9,
   "id": "7ca729c9-b355-4fa2-b8ef-4d4bb28d3f27",
   "metadata": {},
   "outputs": [],
   "source": [
    "#read data directly from a folder\n",
    "file_url = 'cancer_gene_expression.csv'\n",
    "dataframe = pd.read_csv(file_url)"
   ]
  },
  {
   "cell_type": "code",
   "execution_count": 10,
   "id": "1f18c3c9-7f8b-4309-a9af-b149c27599f8",
   "metadata": {},
   "outputs": [
    {
     "data": {
      "text/html": [
       "<div>\n",
       "<style scoped>\n",
       "    .dataframe tbody tr th:only-of-type {\n",
       "        vertical-align: middle;\n",
       "    }\n",
       "\n",
       "    .dataframe tbody tr th {\n",
       "        vertical-align: top;\n",
       "    }\n",
       "\n",
       "    .dataframe thead th {\n",
       "        text-align: right;\n",
       "    }\n",
       "</style>\n",
       "<table border=\"1\" class=\"dataframe\">\n",
       "  <thead>\n",
       "    <tr style=\"text-align: right;\">\n",
       "      <th></th>\n",
       "      <th>gene_1</th>\n",
       "      <th>gene_2</th>\n",
       "      <th>gene_3</th>\n",
       "      <th>gene_4</th>\n",
       "      <th>gene_5</th>\n",
       "      <th>gene_6</th>\n",
       "      <th>gene_7</th>\n",
       "      <th>gene_8</th>\n",
       "      <th>gene_9</th>\n",
       "      <th>gene_10</th>\n",
       "      <th>...</th>\n",
       "      <th>gene_7992</th>\n",
       "      <th>gene_7993</th>\n",
       "      <th>gene_7994</th>\n",
       "      <th>gene_7995</th>\n",
       "      <th>gene_7996</th>\n",
       "      <th>gene_7997</th>\n",
       "      <th>gene_7998</th>\n",
       "      <th>gene_7999</th>\n",
       "      <th>gene_8000</th>\n",
       "      <th>Cancer_Type</th>\n",
       "    </tr>\n",
       "  </thead>\n",
       "  <tbody>\n",
       "    <tr>\n",
       "      <th>0</th>\n",
       "      <td>0.0</td>\n",
       "      <td>0.000000</td>\n",
       "      <td>0.0</td>\n",
       "      <td>2.088413</td>\n",
       "      <td>0.0</td>\n",
       "      <td>0.0</td>\n",
       "      <td>0.0</td>\n",
       "      <td>0.0</td>\n",
       "      <td>0.550605</td>\n",
       "      <td>2.815760</td>\n",
       "      <td>...</td>\n",
       "      <td>11.558803</td>\n",
       "      <td>8.881802</td>\n",
       "      <td>6.014840</td>\n",
       "      <td>6.643534</td>\n",
       "      <td>11.740624</td>\n",
       "      <td>7.065012</td>\n",
       "      <td>9.932659</td>\n",
       "      <td>6.928584</td>\n",
       "      <td>2.088413</td>\n",
       "      <td>KIRC</td>\n",
       "    </tr>\n",
       "    <tr>\n",
       "      <th>1</th>\n",
       "      <td>0.0</td>\n",
       "      <td>0.000000</td>\n",
       "      <td>0.0</td>\n",
       "      <td>3.205955</td>\n",
       "      <td>0.0</td>\n",
       "      <td>0.0</td>\n",
       "      <td>0.0</td>\n",
       "      <td>0.0</td>\n",
       "      <td>0.425244</td>\n",
       "      <td>2.354396</td>\n",
       "      <td>...</td>\n",
       "      <td>11.062829</td>\n",
       "      <td>9.032864</td>\n",
       "      <td>5.054193</td>\n",
       "      <td>6.432320</td>\n",
       "      <td>12.104985</td>\n",
       "      <td>7.300746</td>\n",
       "      <td>9.872796</td>\n",
       "      <td>5.039231</td>\n",
       "      <td>2.448002</td>\n",
       "      <td>KIRC</td>\n",
       "    </tr>\n",
       "    <tr>\n",
       "      <th>2</th>\n",
       "      <td>0.0</td>\n",
       "      <td>0.000000</td>\n",
       "      <td>0.0</td>\n",
       "      <td>4.746646</td>\n",
       "      <td>0.0</td>\n",
       "      <td>0.0</td>\n",
       "      <td>0.0</td>\n",
       "      <td>0.0</td>\n",
       "      <td>2.639417</td>\n",
       "      <td>1.657091</td>\n",
       "      <td>...</td>\n",
       "      <td>12.497640</td>\n",
       "      <td>7.198160</td>\n",
       "      <td>0.943434</td>\n",
       "      <td>7.371690</td>\n",
       "      <td>11.202356</td>\n",
       "      <td>8.426588</td>\n",
       "      <td>11.176890</td>\n",
       "      <td>3.119738</td>\n",
       "      <td>4.433988</td>\n",
       "      <td>BRCA</td>\n",
       "    </tr>\n",
       "    <tr>\n",
       "      <th>3</th>\n",
       "      <td>0.0</td>\n",
       "      <td>0.000000</td>\n",
       "      <td>0.0</td>\n",
       "      <td>1.173191</td>\n",
       "      <td>0.0</td>\n",
       "      <td>0.0</td>\n",
       "      <td>0.0</td>\n",
       "      <td>0.0</td>\n",
       "      <td>1.527371</td>\n",
       "      <td>2.732899</td>\n",
       "      <td>...</td>\n",
       "      <td>11.261713</td>\n",
       "      <td>8.725676</td>\n",
       "      <td>6.300418</td>\n",
       "      <td>6.036451</td>\n",
       "      <td>11.732303</td>\n",
       "      <td>7.559469</td>\n",
       "      <td>9.596453</td>\n",
       "      <td>2.863046</td>\n",
       "      <td>3.380342</td>\n",
       "      <td>KIRC</td>\n",
       "    </tr>\n",
       "    <tr>\n",
       "      <th>4</th>\n",
       "      <td>0.0</td>\n",
       "      <td>0.000000</td>\n",
       "      <td>0.0</td>\n",
       "      <td>1.366532</td>\n",
       "      <td>0.0</td>\n",
       "      <td>0.0</td>\n",
       "      <td>0.0</td>\n",
       "      <td>0.0</td>\n",
       "      <td>0.000000</td>\n",
       "      <td>3.388355</td>\n",
       "      <td>...</td>\n",
       "      <td>12.241965</td>\n",
       "      <td>7.685204</td>\n",
       "      <td>5.142948</td>\n",
       "      <td>6.355788</td>\n",
       "      <td>11.493950</td>\n",
       "      <td>8.139444</td>\n",
       "      <td>10.189256</td>\n",
       "      <td>6.544487</td>\n",
       "      <td>0.839395</td>\n",
       "      <td>COAD</td>\n",
       "    </tr>\n",
       "    <tr>\n",
       "      <th>...</th>\n",
       "      <td>...</td>\n",
       "      <td>...</td>\n",
       "      <td>...</td>\n",
       "      <td>...</td>\n",
       "      <td>...</td>\n",
       "      <td>...</td>\n",
       "      <td>...</td>\n",
       "      <td>...</td>\n",
       "      <td>...</td>\n",
       "      <td>...</td>\n",
       "      <td>...</td>\n",
       "      <td>...</td>\n",
       "      <td>...</td>\n",
       "      <td>...</td>\n",
       "      <td>...</td>\n",
       "      <td>...</td>\n",
       "      <td>...</td>\n",
       "      <td>...</td>\n",
       "      <td>...</td>\n",
       "      <td>...</td>\n",
       "      <td>...</td>\n",
       "    </tr>\n",
       "    <tr>\n",
       "      <th>796</th>\n",
       "      <td>0.0</td>\n",
       "      <td>2.933384</td>\n",
       "      <td>0.0</td>\n",
       "      <td>1.683921</td>\n",
       "      <td>0.0</td>\n",
       "      <td>0.0</td>\n",
       "      <td>0.0</td>\n",
       "      <td>0.0</td>\n",
       "      <td>0.635336</td>\n",
       "      <td>1.252839</td>\n",
       "      <td>...</td>\n",
       "      <td>9.985842</td>\n",
       "      <td>9.469967</td>\n",
       "      <td>4.225275</td>\n",
       "      <td>6.955336</td>\n",
       "      <td>11.722206</td>\n",
       "      <td>7.309940</td>\n",
       "      <td>10.986119</td>\n",
       "      <td>6.396848</td>\n",
       "      <td>1.252839</td>\n",
       "      <td>BRCA</td>\n",
       "    </tr>\n",
       "    <tr>\n",
       "      <th>797</th>\n",
       "      <td>0.0</td>\n",
       "      <td>0.000000</td>\n",
       "      <td>0.0</td>\n",
       "      <td>2.772625</td>\n",
       "      <td>0.0</td>\n",
       "      <td>0.0</td>\n",
       "      <td>0.0</td>\n",
       "      <td>0.0</td>\n",
       "      <td>0.534759</td>\n",
       "      <td>3.761764</td>\n",
       "      <td>...</td>\n",
       "      <td>12.334681</td>\n",
       "      <td>8.157327</td>\n",
       "      <td>1.482797</td>\n",
       "      <td>6.758183</td>\n",
       "      <td>11.403838</td>\n",
       "      <td>9.005347</td>\n",
       "      <td>11.012045</td>\n",
       "      <td>5.386625</td>\n",
       "      <td>1.697640</td>\n",
       "      <td>COAD</td>\n",
       "    </tr>\n",
       "    <tr>\n",
       "      <th>798</th>\n",
       "      <td>0.0</td>\n",
       "      <td>0.408277</td>\n",
       "      <td>0.0</td>\n",
       "      <td>1.854754</td>\n",
       "      <td>0.0</td>\n",
       "      <td>0.0</td>\n",
       "      <td>0.0</td>\n",
       "      <td>0.0</td>\n",
       "      <td>0.000000</td>\n",
       "      <td>0.986520</td>\n",
       "      <td>...</td>\n",
       "      <td>11.671992</td>\n",
       "      <td>8.859616</td>\n",
       "      <td>6.393828</td>\n",
       "      <td>6.427115</td>\n",
       "      <td>11.596586</td>\n",
       "      <td>7.454127</td>\n",
       "      <td>10.718533</td>\n",
       "      <td>5.507417</td>\n",
       "      <td>1.398131</td>\n",
       "      <td>BRCA</td>\n",
       "    </tr>\n",
       "    <tr>\n",
       "      <th>799</th>\n",
       "      <td>0.0</td>\n",
       "      <td>0.639232</td>\n",
       "      <td>0.0</td>\n",
       "      <td>3.226971</td>\n",
       "      <td>0.0</td>\n",
       "      <td>0.0</td>\n",
       "      <td>0.0</td>\n",
       "      <td>0.0</td>\n",
       "      <td>1.921322</td>\n",
       "      <td>0.639232</td>\n",
       "      <td>...</td>\n",
       "      <td>12.237087</td>\n",
       "      <td>5.753976</td>\n",
       "      <td>4.192478</td>\n",
       "      <td>6.614875</td>\n",
       "      <td>11.183245</td>\n",
       "      <td>7.544261</td>\n",
       "      <td>10.649382</td>\n",
       "      <td>5.282158</td>\n",
       "      <td>0.639232</td>\n",
       "      <td>BRCA</td>\n",
       "    </tr>\n",
       "    <tr>\n",
       "      <th>800</th>\n",
       "      <td>0.0</td>\n",
       "      <td>0.000000</td>\n",
       "      <td>0.0</td>\n",
       "      <td>2.336912</td>\n",
       "      <td>0.0</td>\n",
       "      <td>0.0</td>\n",
       "      <td>0.0</td>\n",
       "      <td>0.0</td>\n",
       "      <td>0.926379</td>\n",
       "      <td>1.233090</td>\n",
       "      <td>...</td>\n",
       "      <td>11.086966</td>\n",
       "      <td>8.345086</td>\n",
       "      <td>7.789018</td>\n",
       "      <td>6.472460</td>\n",
       "      <td>11.819836</td>\n",
       "      <td>8.082942</td>\n",
       "      <td>10.397717</td>\n",
       "      <td>7.550000</td>\n",
       "      <td>0.926379</td>\n",
       "      <td>COAD</td>\n",
       "    </tr>\n",
       "  </tbody>\n",
       "</table>\n",
       "<p>801 rows × 8001 columns</p>\n",
       "</div>"
      ],
      "text/plain": [
       "     gene_1    gene_2  gene_3    gene_4  gene_5  gene_6  gene_7  gene_8  \\\n",
       "0       0.0  0.000000     0.0  2.088413     0.0     0.0     0.0     0.0   \n",
       "1       0.0  0.000000     0.0  3.205955     0.0     0.0     0.0     0.0   \n",
       "2       0.0  0.000000     0.0  4.746646     0.0     0.0     0.0     0.0   \n",
       "3       0.0  0.000000     0.0  1.173191     0.0     0.0     0.0     0.0   \n",
       "4       0.0  0.000000     0.0  1.366532     0.0     0.0     0.0     0.0   \n",
       "..      ...       ...     ...       ...     ...     ...     ...     ...   \n",
       "796     0.0  2.933384     0.0  1.683921     0.0     0.0     0.0     0.0   \n",
       "797     0.0  0.000000     0.0  2.772625     0.0     0.0     0.0     0.0   \n",
       "798     0.0  0.408277     0.0  1.854754     0.0     0.0     0.0     0.0   \n",
       "799     0.0  0.639232     0.0  3.226971     0.0     0.0     0.0     0.0   \n",
       "800     0.0  0.000000     0.0  2.336912     0.0     0.0     0.0     0.0   \n",
       "\n",
       "       gene_9   gene_10  ...  gene_7992  gene_7993  gene_7994  gene_7995  \\\n",
       "0    0.550605  2.815760  ...  11.558803   8.881802   6.014840   6.643534   \n",
       "1    0.425244  2.354396  ...  11.062829   9.032864   5.054193   6.432320   \n",
       "2    2.639417  1.657091  ...  12.497640   7.198160   0.943434   7.371690   \n",
       "3    1.527371  2.732899  ...  11.261713   8.725676   6.300418   6.036451   \n",
       "4    0.000000  3.388355  ...  12.241965   7.685204   5.142948   6.355788   \n",
       "..        ...       ...  ...        ...        ...        ...        ...   \n",
       "796  0.635336  1.252839  ...   9.985842   9.469967   4.225275   6.955336   \n",
       "797  0.534759  3.761764  ...  12.334681   8.157327   1.482797   6.758183   \n",
       "798  0.000000  0.986520  ...  11.671992   8.859616   6.393828   6.427115   \n",
       "799  1.921322  0.639232  ...  12.237087   5.753976   4.192478   6.614875   \n",
       "800  0.926379  1.233090  ...  11.086966   8.345086   7.789018   6.472460   \n",
       "\n",
       "     gene_7996  gene_7997  gene_7998  gene_7999  gene_8000  Cancer_Type  \n",
       "0    11.740624   7.065012   9.932659   6.928584   2.088413         KIRC  \n",
       "1    12.104985   7.300746   9.872796   5.039231   2.448002         KIRC  \n",
       "2    11.202356   8.426588  11.176890   3.119738   4.433988         BRCA  \n",
       "3    11.732303   7.559469   9.596453   2.863046   3.380342         KIRC  \n",
       "4    11.493950   8.139444  10.189256   6.544487   0.839395         COAD  \n",
       "..         ...        ...        ...        ...        ...          ...  \n",
       "796  11.722206   7.309940  10.986119   6.396848   1.252839         BRCA  \n",
       "797  11.403838   9.005347  11.012045   5.386625   1.697640         COAD  \n",
       "798  11.596586   7.454127  10.718533   5.507417   1.398131         BRCA  \n",
       "799  11.183245   7.544261  10.649382   5.282158   0.639232         BRCA  \n",
       "800  11.819836   8.082942  10.397717   7.550000   0.926379         COAD  \n",
       "\n",
       "[801 rows x 8001 columns]"
      ]
     },
     "execution_count": 10,
     "metadata": {},
     "output_type": "execute_result"
    }
   ],
   "source": [
    "dataframe"
   ]
  },
  {
   "cell_type": "markdown",
   "id": "7f2caeda-3e0c-44e4-9049-6883eb1cf476",
   "metadata": {},
   "source": [
    "#### Data Checking & Cleaning"
   ]
  },
  {
   "cell_type": "code",
   "execution_count": 12,
   "id": "3ee83aa6-83f3-4107-971f-58b15fd4c5cf",
   "metadata": {},
   "outputs": [
    {
     "name": "stdout",
     "output_type": "stream",
     "text": [
      "(801, 8001)\n"
     ]
    }
   ],
   "source": [
    "# Check the number of samples and features\n",
    "# Note:the last column contain the label of this data set so we can aware of it.\n",
    "print(dataframe.shape)"
   ]
  },
  {
   "cell_type": "code",
   "execution_count": 13,
   "id": "c31ffc94-28bc-4ede-896e-a12ab5e6085f",
   "metadata": {},
   "outputs": [
    {
     "name": "stdout",
     "output_type": "stream",
     "text": [
      "Index(['gene_1', 'gene_2'], dtype='object')\n"
     ]
    }
   ],
   "source": [
    "#let's check some of the columns (first, second)\n",
    "print(dataframe.columns[0:2])"
   ]
  },
  {
   "cell_type": "code",
   "execution_count": 14,
   "id": "9abce1de-5847-4c52-8bf6-39718463b15f",
   "metadata": {},
   "outputs": [
    {
     "data": {
      "text/html": [
       "<div>\n",
       "<style scoped>\n",
       "    .dataframe tbody tr th:only-of-type {\n",
       "        vertical-align: middle;\n",
       "    }\n",
       "\n",
       "    .dataframe tbody tr th {\n",
       "        vertical-align: top;\n",
       "    }\n",
       "\n",
       "    .dataframe thead th {\n",
       "        text-align: right;\n",
       "    }\n",
       "</style>\n",
       "<table border=\"1\" class=\"dataframe\">\n",
       "  <thead>\n",
       "    <tr style=\"text-align: right;\">\n",
       "      <th></th>\n",
       "      <th>gene_1</th>\n",
       "      <th>gene_2</th>\n",
       "      <th>gene_3</th>\n",
       "      <th>gene_4</th>\n",
       "      <th>gene_5</th>\n",
       "      <th>gene_6</th>\n",
       "      <th>gene_7</th>\n",
       "      <th>gene_8</th>\n",
       "      <th>gene_9</th>\n",
       "      <th>gene_10</th>\n",
       "      <th>...</th>\n",
       "      <th>gene_7992</th>\n",
       "      <th>gene_7993</th>\n",
       "      <th>gene_7994</th>\n",
       "      <th>gene_7995</th>\n",
       "      <th>gene_7996</th>\n",
       "      <th>gene_7997</th>\n",
       "      <th>gene_7998</th>\n",
       "      <th>gene_7999</th>\n",
       "      <th>gene_8000</th>\n",
       "      <th>Cancer_Type</th>\n",
       "    </tr>\n",
       "  </thead>\n",
       "  <tbody>\n",
       "    <tr>\n",
       "      <th>0</th>\n",
       "      <td>0.0</td>\n",
       "      <td>0.0</td>\n",
       "      <td>0.0</td>\n",
       "      <td>2.088413</td>\n",
       "      <td>0.0</td>\n",
       "      <td>0.0</td>\n",
       "      <td>0.0</td>\n",
       "      <td>0.0</td>\n",
       "      <td>0.550605</td>\n",
       "      <td>2.815760</td>\n",
       "      <td>...</td>\n",
       "      <td>11.558803</td>\n",
       "      <td>8.881802</td>\n",
       "      <td>6.014840</td>\n",
       "      <td>6.643534</td>\n",
       "      <td>11.740624</td>\n",
       "      <td>7.065012</td>\n",
       "      <td>9.932659</td>\n",
       "      <td>6.928584</td>\n",
       "      <td>2.088413</td>\n",
       "      <td>KIRC</td>\n",
       "    </tr>\n",
       "    <tr>\n",
       "      <th>1</th>\n",
       "      <td>0.0</td>\n",
       "      <td>0.0</td>\n",
       "      <td>0.0</td>\n",
       "      <td>3.205955</td>\n",
       "      <td>0.0</td>\n",
       "      <td>0.0</td>\n",
       "      <td>0.0</td>\n",
       "      <td>0.0</td>\n",
       "      <td>0.425244</td>\n",
       "      <td>2.354396</td>\n",
       "      <td>...</td>\n",
       "      <td>11.062829</td>\n",
       "      <td>9.032864</td>\n",
       "      <td>5.054193</td>\n",
       "      <td>6.432320</td>\n",
       "      <td>12.104985</td>\n",
       "      <td>7.300746</td>\n",
       "      <td>9.872796</td>\n",
       "      <td>5.039231</td>\n",
       "      <td>2.448002</td>\n",
       "      <td>KIRC</td>\n",
       "    </tr>\n",
       "  </tbody>\n",
       "</table>\n",
       "<p>2 rows × 8001 columns</p>\n",
       "</div>"
      ],
      "text/plain": [
       "   gene_1  gene_2  gene_3    gene_4  gene_5  gene_6  gene_7  gene_8    gene_9  \\\n",
       "0     0.0     0.0     0.0  2.088413     0.0     0.0     0.0     0.0  0.550605   \n",
       "1     0.0     0.0     0.0  3.205955     0.0     0.0     0.0     0.0  0.425244   \n",
       "\n",
       "    gene_10  ...  gene_7992  gene_7993  gene_7994  gene_7995  gene_7996  \\\n",
       "0  2.815760  ...  11.558803   8.881802   6.014840   6.643534  11.740624   \n",
       "1  2.354396  ...  11.062829   9.032864   5.054193   6.432320  12.104985   \n",
       "\n",
       "   gene_7997  gene_7998  gene_7999  gene_8000  Cancer_Type  \n",
       "0   7.065012   9.932659   6.928584   2.088413         KIRC  \n",
       "1   7.300746   9.872796   5.039231   2.448002         KIRC  \n",
       "\n",
       "[2 rows x 8001 columns]"
      ]
     },
     "execution_count": 14,
     "metadata": {},
     "output_type": "execute_result"
    }
   ],
   "source": [
    "dataframe[0:2]"
   ]
  },
  {
   "cell_type": "code",
   "execution_count": 17,
   "id": "b0663e40-25fb-4938-bdbf-f3b955dc67f7",
   "metadata": {},
   "outputs": [
    {
     "data": {
      "text/html": [
       "<div>\n",
       "<style scoped>\n",
       "    .dataframe tbody tr th:only-of-type {\n",
       "        vertical-align: middle;\n",
       "    }\n",
       "\n",
       "    .dataframe tbody tr th {\n",
       "        vertical-align: top;\n",
       "    }\n",
       "\n",
       "    .dataframe thead th {\n",
       "        text-align: right;\n",
       "    }\n",
       "</style>\n",
       "<table border=\"1\" class=\"dataframe\">\n",
       "  <thead>\n",
       "    <tr style=\"text-align: right;\">\n",
       "      <th></th>\n",
       "      <th>gene_1</th>\n",
       "      <th>gene_2</th>\n",
       "    </tr>\n",
       "  </thead>\n",
       "  <tbody>\n",
       "    <tr>\n",
       "      <th>0</th>\n",
       "      <td>0.0</td>\n",
       "      <td>0.000000</td>\n",
       "    </tr>\n",
       "    <tr>\n",
       "      <th>1</th>\n",
       "      <td>0.0</td>\n",
       "      <td>0.000000</td>\n",
       "    </tr>\n",
       "    <tr>\n",
       "      <th>2</th>\n",
       "      <td>0.0</td>\n",
       "      <td>0.000000</td>\n",
       "    </tr>\n",
       "    <tr>\n",
       "      <th>3</th>\n",
       "      <td>0.0</td>\n",
       "      <td>0.000000</td>\n",
       "    </tr>\n",
       "    <tr>\n",
       "      <th>4</th>\n",
       "      <td>0.0</td>\n",
       "      <td>0.000000</td>\n",
       "    </tr>\n",
       "    <tr>\n",
       "      <th>...</th>\n",
       "      <td>...</td>\n",
       "      <td>...</td>\n",
       "    </tr>\n",
       "    <tr>\n",
       "      <th>796</th>\n",
       "      <td>0.0</td>\n",
       "      <td>2.933384</td>\n",
       "    </tr>\n",
       "    <tr>\n",
       "      <th>797</th>\n",
       "      <td>0.0</td>\n",
       "      <td>0.000000</td>\n",
       "    </tr>\n",
       "    <tr>\n",
       "      <th>798</th>\n",
       "      <td>0.0</td>\n",
       "      <td>0.408277</td>\n",
       "    </tr>\n",
       "    <tr>\n",
       "      <th>799</th>\n",
       "      <td>0.0</td>\n",
       "      <td>0.639232</td>\n",
       "    </tr>\n",
       "    <tr>\n",
       "      <th>800</th>\n",
       "      <td>0.0</td>\n",
       "      <td>0.000000</td>\n",
       "    </tr>\n",
       "  </tbody>\n",
       "</table>\n",
       "<p>801 rows × 2 columns</p>\n",
       "</div>"
      ],
      "text/plain": [
       "     gene_1    gene_2\n",
       "0       0.0  0.000000\n",
       "1       0.0  0.000000\n",
       "2       0.0  0.000000\n",
       "3       0.0  0.000000\n",
       "4       0.0  0.000000\n",
       "..      ...       ...\n",
       "796     0.0  2.933384\n",
       "797     0.0  0.000000\n",
       "798     0.0  0.408277\n",
       "799     0.0  0.639232\n",
       "800     0.0  0.000000\n",
       "\n",
       "[801 rows x 2 columns]"
      ]
     },
     "execution_count": 17,
     "metadata": {},
     "output_type": "execute_result"
    }
   ],
   "source": [
    "dataframe.iloc[:, :2]"
   ]
  },
  {
   "cell_type": "code",
   "execution_count": 20,
   "id": "ae3ac599-a553-48c4-9ddc-7ed1042ccc3b",
   "metadata": {},
   "outputs": [
    {
     "data": {
      "text/plain": [
       "'Cancer_Type'"
      ]
     },
     "execution_count": 20,
     "metadata": {},
     "output_type": "execute_result"
    }
   ],
   "source": [
    "#Check the labels from the last column of this dataframe\n",
    "dataframe.columns[-1]"
   ]
  },
  {
   "cell_type": "code",
   "execution_count": 30,
   "id": "d397c9a5-5f5a-4c93-a364-a167bd7778d7",
   "metadata": {},
   "outputs": [
    {
     "data": {
      "text/plain": [
       "'gene_1'"
      ]
     },
     "execution_count": 30,
     "metadata": {},
     "output_type": "execute_result"
    }
   ],
   "source": [
    "dataframe.columns[0]"
   ]
  },
  {
   "cell_type": "code",
   "execution_count": 22,
   "id": "25542673-7aba-428d-b1c1-ada4b1fffc93",
   "metadata": {},
   "outputs": [
    {
     "data": {
      "text/plain": [
       "0      KIRC\n",
       "1      KIRC\n",
       "2      BRCA\n",
       "3      KIRC\n",
       "4      COAD\n",
       "       ... \n",
       "796    BRCA\n",
       "797    COAD\n",
       "798    BRCA\n",
       "799    BRCA\n",
       "800    COAD\n",
       "Name: Cancer_Type, Length: 801, dtype: object"
      ]
     },
     "execution_count": 22,
     "metadata": {},
     "output_type": "execute_result"
    }
   ],
   "source": [
    "dataframe.iloc[:,-1]"
   ]
  },
  {
   "cell_type": "code",
   "execution_count": 24,
   "id": "b3e3de76-59b8-45ea-a9be-c2fd780317e7",
   "metadata": {},
   "outputs": [
    {
     "data": {
      "image/png": "[encoded data removed]",
      "text/plain": [
       "<Figure size 1000x500 with 1 Axes>"
      ]
     },
     "metadata": {},
     "output_type": "display_data"
    }
   ],
   "source": [
    "# Count unique values\n",
    "cancer_counts = dataframe[\"Cancer_Type\"].value_counts()\n",
    "# Plot bar chart\n",
    "plt.figure(figsize=(10, 5))\n",
    "cancer_counts.plot(kind=\"bar\", color=\"skyblue\", edgecolor=\"black\")\n",
    "# Labels & Title\n",
    "plt.xlabel(\"Cancer Type\")\n",
    "plt.ylabel(\"Count\")\n",
    "plt.title(\"Distribution of Cancer Types\")\n",
    "plt.xticks(rotation=0)\n",
    "plt.show()"
   ]
  },
  {
   "cell_type": "code",
   "execution_count": 25,
   "id": "2a05eb72-36ae-44c2-b663-8333dc5cc82c",
   "metadata": {},
   "outputs": [
    {
     "data": {
      "text/plain": [
       "Cancer_Type\n",
       "BRCA    300\n",
       "KIRC    146\n",
       "LUAD    141\n",
       "PRAD    136\n",
       "COAD     78\n",
       "Name: count, dtype: int64"
      ]
     },
     "execution_count": 25,
     "metadata": {},
     "output_type": "execute_result"
    }
   ],
   "source": [
    "cancer_counts"
   ]
  },
  {
   "cell_type": "code",
   "execution_count": 28,
   "id": "80c9ce94-54e9-4829-a166-7ce535fe6b29",
   "metadata": {},
   "outputs": [
    {
     "name": "stdout",
     "output_type": "stream",
     "text": [
      "columns with missing values:0\n"
     ]
    }
   ],
   "source": [
    "# Try to find missing values\n",
    "datanul=dataframe.isnull().sum()\n",
    "g=[i for i in datanul if i>0]\n",
    "print('columns with missing values:%d'%len(g))"
   ]
  },
  {
   "cell_type": "markdown",
   "id": "59e58a32-18ff-4283-a7b3-392e0e46d8f4",
   "metadata": {},
   "source": [
    "#### Data preprocesing"
   ]
  },
  {
   "cell_type": "code",
   "execution_count": 31,
   "id": "2b798b7f-6e20-46ba-b183-5746bd82ad77",
   "metadata": {},
   "outputs": [],
   "source": [
    "# we will now seperate the feature values from the class. \n",
    "# we do this because scikit-learn requires that features and class are separated before parsing them to the classifiers.\n",
    "X=dataframe.iloc[:,0:-1]\n",
    "y=dataframe.iloc[:,-1]"
   ]
  },
  {
   "cell_type": "code",
   "execution_count": 35,
   "id": "e144b218-58d9-4f29-99f0-2f4ca0e6ec91",
   "metadata": {},
   "outputs": [
    {
     "data": {
      "text/plain": [
       "((801, 8000), (801,))"
      ]
     },
     "execution_count": 35,
     "metadata": {},
     "output_type": "execute_result"
    }
   ],
   "source": [
    "X.shape, y.shape"
   ]
  },
  {
   "cell_type": "markdown",
   "id": "71174f21-624d-4047-a859-13869ec95b23",
   "metadata": {},
   "source": [
    "We have to encode the labels.\n",
    "The labels in this dataset are categorical, so we need to convert them into numeric form through a process called encoding. Machine learning models typically require numerical input, making label encoding essential."
   ]
  },
  {
   "cell_type": "code",
   "execution_count": 38,
   "id": "0ab534e0-d0ff-410d-9c2d-6bc7ddf61d5d",
   "metadata": {},
   "outputs": [],
   "source": [
    "# We will use LabelEncoder to convert categorical labels into numeric form, ensuring the data is suitable for machine learning models.\n",
    "label_encoder = LabelEncoder()\n",
    "label_encoder.fit(y)\n",
    "y_encoded = label_encoder.transform(y)\n",
    "labels = label_encoder.classes_\n",
    "classes = np.unique(y_encoded)"
   ]
  },
  {
   "cell_type": "code",
   "execution_count": 39,
   "id": "3c4ccdf1-eb14-45ff-af81-3ee9c8a8ea6f",
   "metadata": {},
   "outputs": [
    {
     "data": {
      "text/plain": [
       "array(['BRCA', 'COAD', 'KIRC', 'LUAD', 'PRAD'], dtype=object)"
      ]
     },
     "execution_count": 39,
     "metadata": {},
     "output_type": "execute_result"
    }
   ],
   "source": [
    "labels"
   ]
  },
  {
   "cell_type": "code",
   "execution_count": 40,
   "id": "b426e488-19b5-4a44-acda-9cb201b45f66",
   "metadata": {},
   "outputs": [
    {
     "data": {
      "text/plain": [
       "array([0, 1, 2, 3, 4])"
      ]
     },
     "execution_count": 40,
     "metadata": {},
     "output_type": "execute_result"
    }
   ],
   "source": [
    "classes"
   ]
  },
  {
   "cell_type": "markdown",
   "id": "513605f2-b017-43a7-b2f4-fc17ab2c5892",
   "metadata": {},
   "source": [
    "#### Data Splitting\n",
    "Next, we will split the data into training and test subsets. The training data is fed into the machine learning model, allowing it to learn and identify patterns that can be used for future predictions. The test data, on the other hand, is used to assess the model's performance after the training phase."
   ]
  },
  {
   "cell_type": "code",
   "execution_count": 41,
   "id": "65904108-cd39-43ff-8408-f5724ad55347",
   "metadata": {},
   "outputs": [],
   "source": [
    "#split data into training and test sets\n",
    "X_train,X_test,y_train,y_test=train_test_split(X,y_encoded,test_size=0.2,random_state=42)\n",
    "# Here, 0.2 means that 20% of the data will be used for testing, and the remaining 80% will be used for training.\n",
    "# random_state=42: Ensures the data split is reproducible, meaning you'll get the same train-test split each time you run the code."
   ]
  },
  {
   "cell_type": "code",
   "execution_count": 43,
   "id": "eb677f07-ffb0-428c-861c-d4a9e58df787",
   "metadata": {},
   "outputs": [
    {
     "data": {
      "text/html": [
       "<div>\n",
       "<style scoped>\n",
       "    .dataframe tbody tr th:only-of-type {\n",
       "        vertical-align: middle;\n",
       "    }\n",
       "\n",
       "    .dataframe tbody tr th {\n",
       "        vertical-align: top;\n",
       "    }\n",
       "\n",
       "    .dataframe thead th {\n",
       "        text-align: right;\n",
       "    }\n",
       "</style>\n",
       "<table border=\"1\" class=\"dataframe\">\n",
       "  <thead>\n",
       "    <tr style=\"text-align: right;\">\n",
       "      <th></th>\n",
       "      <th>gene_1</th>\n",
       "      <th>gene_2</th>\n",
       "      <th>gene_3</th>\n",
       "      <th>gene_4</th>\n",
       "      <th>gene_5</th>\n",
       "    </tr>\n",
       "  </thead>\n",
       "  <tbody>\n",
       "    <tr>\n",
       "      <th>count</th>\n",
       "      <td>801.000000</td>\n",
       "      <td>801.000000</td>\n",
       "      <td>801.000000</td>\n",
       "      <td>801.000000</td>\n",
       "      <td>801.000000</td>\n",
       "    </tr>\n",
       "    <tr>\n",
       "      <th>mean</th>\n",
       "      <td>0.026642</td>\n",
       "      <td>0.231049</td>\n",
       "      <td>0.010844</td>\n",
       "      <td>2.405459</td>\n",
       "      <td>0.005799</td>\n",
       "    </tr>\n",
       "    <tr>\n",
       "      <th>std</th>\n",
       "      <td>0.136850</td>\n",
       "      <td>0.656692</td>\n",
       "      <td>0.153859</td>\n",
       "      <td>0.797236</td>\n",
       "      <td>0.052265</td>\n",
       "    </tr>\n",
       "    <tr>\n",
       "      <th>min</th>\n",
       "      <td>0.000000</td>\n",
       "      <td>0.000000</td>\n",
       "      <td>0.000000</td>\n",
       "      <td>0.000000</td>\n",
       "      <td>0.000000</td>\n",
       "    </tr>\n",
       "    <tr>\n",
       "      <th>25%</th>\n",
       "      <td>0.000000</td>\n",
       "      <td>0.000000</td>\n",
       "      <td>0.000000</td>\n",
       "      <td>1.898595</td>\n",
       "      <td>0.000000</td>\n",
       "    </tr>\n",
       "    <tr>\n",
       "      <th>50%</th>\n",
       "      <td>0.000000</td>\n",
       "      <td>0.000000</td>\n",
       "      <td>0.000000</td>\n",
       "      <td>2.358284</td>\n",
       "      <td>0.000000</td>\n",
       "    </tr>\n",
       "    <tr>\n",
       "      <th>75%</th>\n",
       "      <td>0.000000</td>\n",
       "      <td>0.000000</td>\n",
       "      <td>0.000000</td>\n",
       "      <td>2.929355</td>\n",
       "      <td>0.000000</td>\n",
       "    </tr>\n",
       "    <tr>\n",
       "      <th>max</th>\n",
       "      <td>1.482332</td>\n",
       "      <td>6.575004</td>\n",
       "      <td>3.778061</td>\n",
       "      <td>4.746646</td>\n",
       "      <td>0.570754</td>\n",
       "    </tr>\n",
       "  </tbody>\n",
       "</table>\n",
       "</div>"
      ],
      "text/plain": [
       "           gene_1      gene_2      gene_3      gene_4      gene_5\n",
       "count  801.000000  801.000000  801.000000  801.000000  801.000000\n",
       "mean     0.026642    0.231049    0.010844    2.405459    0.005799\n",
       "std      0.136850    0.656692    0.153859    0.797236    0.052265\n",
       "min      0.000000    0.000000    0.000000    0.000000    0.000000\n",
       "25%      0.000000    0.000000    0.000000    1.898595    0.000000\n",
       "50%      0.000000    0.000000    0.000000    2.358284    0.000000\n",
       "75%      0.000000    0.000000    0.000000    2.929355    0.000000\n",
       "max      1.482332    6.575004    3.778061    4.746646    0.570754"
      ]
     },
     "execution_count": 43,
     "metadata": {},
     "output_type": "execute_result"
    }
   ],
   "source": [
    "dataframe.iloc[:,0:5].describe()"
   ]
  },
  {
   "cell_type": "markdown",
   "id": "e6bf7ab3-f7d6-4581-9a47-87db9b4fef7c",
   "metadata": {},
   "source": [
    "#### Data Normalization\n",
    "Data normalization is done so that the values are in the same range. This will improve model performance and avoid bias"
   ]
  },
  {
   "cell_type": "code",
   "execution_count": 44,
   "id": "7d287d4d-ad34-4dd8-9477-fbee80a156ab",
   "metadata": {},
   "outputs": [],
   "source": [
    "# scale data between 0 and 1\n",
    "# MinMaxScaler is used to scale the features of the dataset so that they are in a specific range, typically [0, 1].\n",
    "min_max_scaler = MinMaxScaler() # Scaling ensures that all features contribute equally to the model and are in the same range.\n",
    "X_train_norm = min_max_scaler.fit_transform(X_train) # This step returns a normalized version of the training data, stored in X_train_norm\n",
    "X_test_norm = min_max_scaler.fit_transform(X_test)"
   ]
  },
  {
   "cell_type": "markdown",
   "id": "5b63655a-8f19-4177-b4c6-19fa0b9da25b",
   "metadata": {},
   "source": [
    "#### Feature Selection\n",
    "Feature selection aims to identify the most relevant features for classification. It is typically performed as a pre-processing step before the actual learning process.\n",
    "In this tutorial, we use the mutual information algorithm to evaluate the relevance of each feature. The top n features (e.g., the top 300) are then chosen for the machine learning analysis."
   ]
  },
  {
   "cell_type": "markdown",
   "id": "dd6c56f2-b279-4b31-ac72-adcc3e35c6b5",
   "metadata": {},
   "source": [
    "#### Feature Selection using Mutual Information"
   ]
  },
  {
   "cell_type": "code",
   "execution_count": 47,
   "id": "b28b9a8d-ca7e-4590-a552-669a5129aae7",
   "metadata": {},
   "outputs": [],
   "source": [
    "MI = mutual_info_classif(X_train_norm,y_train)\n",
    "#It helps to identify redundant or irrelevant features, leading to more efficient and accurate models by removing unnecessary variables.\n",
    "#It returns a list of scores representing the relevance of each feature, which can be used for feature selection in the machine learning pipeline."
   ]
  },
  {
   "cell_type": "code",
   "execution_count": 49,
   "id": "566001f8-74b4-486d-b02d-04e0dd61d291",
   "metadata": {},
   "outputs": [],
   "source": [
    "# select top n features.\n",
    "# The code is selecting the top n_features based on the highest mutual information scores,\n",
    "# allowing you to focus on the most relevant features for your classification task.\n",
    "n_features = 300\n",
    "selected_scores_indices = np.argsort(MI)[::-1][0:n_features]\n"
   ]
  },
  {
   "cell_type": "code",
   "execution_count": 52,
   "id": "3a7048e2-2fc8-4afe-b6da-49bfca0bc6c8",
   "metadata": {},
   "outputs": [],
   "source": [
    "X_train_selected = X_train_norm[:,selected_scores_indices]\n",
    "X_test_selected = X_test_norm[:,selected_scores_indices]"
   ]
  },
  {
   "cell_type": "code",
   "execution_count": 53,
   "id": "12ead99b-9107-4262-a0d5-29d2a972ced0",
   "metadata": {},
   "outputs": [
    {
     "data": {
      "text/plain": [
       "(640, 300)"
      ]
     },
     "execution_count": 53,
     "metadata": {},
     "output_type": "execute_result"
    }
   ],
   "source": [
    "X_train_selected.shape"
   ]
  },
  {
   "cell_type": "code",
   "execution_count": 54,
   "id": "92cee6b6-b510-4f9c-8a28-f1708f667c00",
   "metadata": {},
   "outputs": [
    {
     "data": {
      "text/plain": [
       "(161, 300)"
      ]
     },
     "execution_count": 54,
     "metadata": {},
     "output_type": "execute_result"
    }
   ],
   "source": [
    "X_test_selected.shape"
   ]
  },
  {
   "cell_type": "markdown",
   "id": "36538c95-9d9a-45b8-96c5-d1d1d5a9f42f",
   "metadata": {},
   "source": [
    "#### Classification"
   ]
  },
  {
   "cell_type": "markdown",
   "id": "53dc4d8e-9038-4614-ac5e-c2f89dd85ed6",
   "metadata": {},
   "source": [
    "Random Forest can handle both multiclass and high-dimensional data. The classification process involves training and testing the model.\n",
    "\n",
    "Model Training\n",
    "Training enables the machine learning model to learn from the provided data and recognize patterns that it can apply to predict outcomes for new, unseen data. During the training phase, the model is provided with the training subset. In this tutorial, we will use the Random Forest Classifier."
   ]
  },
  {
   "cell_type": "markdown",
   "id": "111e405b-14a3-484e-b21a-216b6d3f2d1f",
   "metadata": {},
   "source": [
    "### Accuracy:\n",
    "**Accuracy** is the proportion of correct predictions (both true positives and true negatives) out of all predictions.\n",
    "\n",
    "$$\n",
    "\\text{Accuracy} = \\frac{\\text{TP} + \\text{TN}}{\\text{TP} + \\text{TN} + \\text{FP} + \\text{FN}}\n",
    "$$\n",
    "\n",
    "---\n",
    "\n",
    "### Precision:\n",
    "**Precision** is the proportion of true positives out of all predicted positives.\n",
    "\n",
    "$$\n",
    "\\text{Precision} = \\frac{\\text{TP}}{\\text{TP} + \\text{FP}}\n",
    "$$\n",
    "\n",
    "---\n",
    "\n",
    "### Recall:\n",
    "**Recall** is the proportion of true positives out of all actual positives.\n",
    "\n",
    "$$\n",
    "\\text{Recall} = \\frac{\\text{TP}}{\\text{TP} + \\text{FN}}\n",
    "$$\n",
    "\n",
    "---\n",
    "\n",
    "### F1 Score:\n",
    "**F1 Score** is the harmonic mean of precision and recall. It is useful when you need to balance both precision and recall.\n",
    "\n",
    "$$\n",
    "\\text{F1} = 2 \\times \\frac{\\text{Precision} \\times \\text{Recall}}{\\text{Precision} + \\text{Recall}}\n",
    "$$\n"
   ]
  },
  {
   "cell_type": "code",
   "execution_count": 57,
   "id": "5f7923b0-faf7-43d0-b1ce-1ab5d06e4839",
   "metadata": {},
   "outputs": [],
   "source": [
    "# Random Forest Classifier\n",
    "# because we are dealing with multiclass data, the one versus rest strategy is used.\n",
    "# learn to predict each class against the other.\n",
    "# Step 1: Create a One-vs-Rest Random Forest classifier.\n",
    "RF = OneVsRestClassifier(RandomForestClassifier(max_features=0.2)) \n",
    "## max_features=0.2 means that during each split in a decision tree, only 20% of the features will be considered, \n",
    "## which can help prevent overfitting and improve generalization.\n",
    "## Random Forest is an ensemble learning method where multiple decision trees are trained on random subsets of the data,\n",
    "## and the final prediction is made by aggregating the results from all the trees.\n",
    "## The Random Forest classifier is applied in this OvR strategy, meaning that multiple Random \n",
    "## Forest models will be trained (one for each class), and the one with the highest predicted probability is selected.\n",
    "# Step 2: Train the model using the selected training data \n",
    "RF.fit(X_train_selected,y_train)\n",
    "# Step 3: Make predictions on the test data\n",
    "y_pred = RF.predict(X_test_selected)\n",
    "# Step 4: Get the predicted probabilities for each class for the test data\n",
    "pred_prob = RF.predict_proba(X_test_selected)"
   ]
  },
  {
   "cell_type": "markdown",
   "id": "7f2c200f-82b4-4548-a6f7-59a73a3039fb",
   "metadata": {},
   "source": [
    "### Model Evaluation"
   ]
  },
  {
   "cell_type": "code",
   "execution_count": 60,
   "id": "16512f6b-ec49-45e3-ab28-d88fbbb65b1b",
   "metadata": {},
   "outputs": [
    {
     "name": "stdout",
     "output_type": "stream",
     "text": [
      "accuracy:0.9758\n",
      "precision:0.9819\n",
      "recall:0.9814\n",
      "f1score:0.9815\n",
      "\n",
      "\n",
      "classification report\n",
      "\n",
      "\n",
      "              precision    recall  f1-score   support\n",
      "\n",
      "        BRCA       0.98      0.98      0.98        60\n",
      "        COAD       1.00      0.94      0.97        16\n",
      "        KIRC       1.00      1.00      1.00        28\n",
      "        LUAD       0.92      0.96      0.94        24\n",
      "        PRAD       1.00      1.00      1.00        33\n",
      "\n",
      "    accuracy                           0.98       161\n",
      "   macro avg       0.98      0.98      0.98       161\n",
      "weighted avg       0.98      0.98      0.98       161\n",
      "\n"
     ]
    }
   ],
   "source": [
    "#accuracy\n",
    "accuracy=np.round(balanced_accuracy_score(y_test,y_pred),4)\n",
    "print('accuracy:%0.4f'%accuracy)\n",
    "\n",
    "#Precision measures how many of the predicted positive instances were actually correct.\n",
    "precision=np.round(precision_score(y_test,y_pred,average = 'weighted'),4)\n",
    "print('precision:%0.4f'%precision)\n",
    "\n",
    "#recall High recall means that the model is able to identify most of the actual positive instances.\n",
    "recall=np.round(recall_score(y_test,y_pred,average = 'weighted'),4)\n",
    "print('recall:%0.4f'%recall)\n",
    "\n",
    "#f1score The F1 score is the harmonic mean of precision and recall.\n",
    "# It is a way of combining both precision and recall into a single metric that tries to balance them.\n",
    "f1score=np.round(f1_score(y_test,y_pred,average = 'weighted'),4)\n",
    "print('f1score:%0.4f'%f1score)\n",
    "\n",
    "\n",
    "report=classification_report(y_test,y_pred, target_names=labels)\n",
    "print('\\n')\n",
    "print('classification report\\n\\n')\n",
    "print(report)"
   ]
  },
  {
   "cell_type": "code",
   "execution_count": 61,
   "id": "03308395-b0d4-461b-8f99-1cd653d0fda2",
   "metadata": {},
   "outputs": [],
   "source": [
    "# generate confusion matrix\n",
    "cm = confusion_matrix(y_test,y_pred)\n",
    "cm_df = pd.DataFrame(cm,index=labels,columns=labels)"
   ]
  },
  {
   "cell_type": "code",
   "execution_count": 62,
   "id": "e52a8edf-258b-4298-9626-4c64ddebdb9e",
   "metadata": {},
   "outputs": [
    {
     "data": {
      "text/html": [
       "<div>\n",
       "<style scoped>\n",
       "    .dataframe tbody tr th:only-of-type {\n",
       "        vertical-align: middle;\n",
       "    }\n",
       "\n",
       "    .dataframe tbody tr th {\n",
       "        vertical-align: top;\n",
       "    }\n",
       "\n",
       "    .dataframe thead th {\n",
       "        text-align: right;\n",
       "    }\n",
       "</style>\n",
       "<table border=\"1\" class=\"dataframe\">\n",
       "  <thead>\n",
       "    <tr style=\"text-align: right;\">\n",
       "      <th></th>\n",
       "      <th>BRCA</th>\n",
       "      <th>COAD</th>\n",
       "      <th>KIRC</th>\n",
       "      <th>LUAD</th>\n",
       "      <th>PRAD</th>\n",
       "    </tr>\n",
       "  </thead>\n",
       "  <tbody>\n",
       "    <tr>\n",
       "      <th>BRCA</th>\n",
       "      <td>59</td>\n",
       "      <td>0</td>\n",
       "      <td>0</td>\n",
       "      <td>1</td>\n",
       "      <td>0</td>\n",
       "    </tr>\n",
       "    <tr>\n",
       "      <th>COAD</th>\n",
       "      <td>0</td>\n",
       "      <td>15</td>\n",
       "      <td>0</td>\n",
       "      <td>1</td>\n",
       "      <td>0</td>\n",
       "    </tr>\n",
       "    <tr>\n",
       "      <th>KIRC</th>\n",
       "      <td>0</td>\n",
       "      <td>0</td>\n",
       "      <td>28</td>\n",
       "      <td>0</td>\n",
       "      <td>0</td>\n",
       "    </tr>\n",
       "    <tr>\n",
       "      <th>LUAD</th>\n",
       "      <td>1</td>\n",
       "      <td>0</td>\n",
       "      <td>0</td>\n",
       "      <td>23</td>\n",
       "      <td>0</td>\n",
       "    </tr>\n",
       "    <tr>\n",
       "      <th>PRAD</th>\n",
       "      <td>0</td>\n",
       "      <td>0</td>\n",
       "      <td>0</td>\n",
       "      <td>0</td>\n",
       "      <td>33</td>\n",
       "    </tr>\n",
       "  </tbody>\n",
       "</table>\n",
       "</div>"
      ],
      "text/plain": [
       "      BRCA  COAD  KIRC  LUAD  PRAD\n",
       "BRCA    59     0     0     1     0\n",
       "COAD     0    15     0     1     0\n",
       "KIRC     0     0    28     0     0\n",
       "LUAD     1     0     0    23     0\n",
       "PRAD     0     0     0     0    33"
      ]
     },
     "execution_count": 62,
     "metadata": {},
     "output_type": "execute_result"
    }
   ],
   "source": [
    "cm_df"
   ]
  },
  {
   "cell_type": "code",
   "execution_count": 63,
   "id": "6cab99b1-a3c1-4723-b37b-af3f123e3d3c",
   "metadata": {},
   "outputs": [
    {
     "data": {
      "text/plain": [
       "Text(50.722222222222214, 0.5, 'True Labels')"
      ]
     },
     "execution_count": 63,
     "metadata": {},
     "output_type": "execute_result"
    },
    {
     "data": {
      "image/png": "[encoded data removed]",
      "text/plain": [
       "<Figure size 640x480 with 2 Axes>"
      ]
     },
     "metadata": {},
     "output_type": "display_data"
    }
   ],
   "source": [
    "# Visualize the confusion matrix using seaborn\n",
    "sns.heatmap(cm_df,annot=True,cmap='Blues')\n",
    "plt.xlabel('Predicted Labels')\n",
    "plt.ylabel('True Labels')"
   ]
  },
  {
   "cell_type": "code",
   "execution_count": 65,
   "id": "bbd85df7-2e66-45d5-a580-7e7b2e8cf33b",
   "metadata": {},
   "outputs": [
    {
     "data": {
      "text/plain": [
       "<sklearn.metrics._plot.confusion_matrix.ConfusionMatrixDisplay at 0x144506f50>"
      ]
     },
     "execution_count": 65,
     "metadata": {},
     "output_type": "execute_result"
    },
    {
     "data": {
      "image/png": "[encoded data removed]",
      "text/plain": [
       "<Figure size 640x480 with 2 Axes>"
      ]
     },
     "metadata": {},
     "output_type": "display_data"
    }
   ],
   "source": [
    "# Visualize the confusion matrix directly\n",
    "# Display confusion matrix\n",
    "disp = ConfusionMatrixDisplay(confusion_matrix=cm, display_labels=labels)\n",
    "\n",
    "# Plot the confusion matrix\n",
    "disp.plot(cmap='Blues', xticks_rotation='vertical')"
   ]
  },
  {
   "cell_type": "code",
   "execution_count": 67,
   "id": "7e26945d-9a0c-40f7-a1b3-6244923d5218",
   "metadata": {},
   "outputs": [
    {
     "data": {
      "image/png": "[encoded data removed]",
      "text/plain": [
       "<Figure size 640x480 with 1 Axes>"
      ]
     },
     "metadata": {},
     "output_type": "display_data"
    }
   ],
   "source": [
    "# roc curves will be generated for each class\n",
    "# we will therefore have to binarize the y_test labels\n",
    "# this is done because the probabilities(pred_prob) are calculated for each each class\n",
    "# we therefore need to put the y_test label in the same format as the pred_prob\n",
    "y_test_binarized=label_binarize(y_test,classes=classes)\n",
    "# roc curve for classes\n",
    "fpr = {}\n",
    "tpr = {}\n",
    "thresh ={}\n",
    "roc_auc = dict()\n",
    "\n",
    "n_class = classes.shape[0]\n",
    "\n",
    "for i in range(n_class):    \n",
    "    fpr[i], tpr[i], thresh[i] = roc_curve(y_test_binarized[:,i], pred_prob[:,i])\n",
    "    roc_auc[i] = auc(fpr[i], tpr[i])\n",
    "    \n",
    "    # plotting    \n",
    "    plt.plot(fpr[i], tpr[i], linestyle='--', \n",
    "             label='%s vs Rest (AUC=%0.2f)'%(labels[i],roc_auc[i]))\n",
    "\n",
    "plt.plot([0,1],[0,1],'b--')\n",
    "plt.xlim([0,1])\n",
    "plt.ylim([0,1.05])\n",
    "plt.title('Multiclass ROC curve')\n",
    "plt.xlabel('False Positive Rate')\n",
    "plt.ylabel('True Positive rate')\n",
    "plt.legend(loc='lower right')\n",
    "plt.show()    "
   ]
  },
  {
   "cell_type": "code",
   "execution_count": null,
   "id": "ea7019ac-bb59-4dc5-9344-4767758f1782",
   "metadata": {},
   "outputs": [],
   "source": []
  }
 ],
 "metadata": {
  "kernelspec": {
   "display_name": "Python 3 (ipykernel)",
   "language": "python",
   "name": "python3"
  },
  "language_info": {
   "codemirror_mode": {
    "name": "ipython",
    "version": 3
   },
   "file_extension": ".py",
   "mimetype": "text/x-python",
   "name": "python",
   "nbconvert_exporter": "python",
   "pygments_lexer": "ipython3",
   "version": "3.11.7"
  }
 },
 "nbformat": 4,
 "nbformat_minor": 5
}
